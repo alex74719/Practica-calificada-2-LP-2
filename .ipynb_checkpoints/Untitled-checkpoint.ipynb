{
 "cells": [],
 "metadata": {},
 "nbformat": 4,
 "nbformat_minor": 5
}
import pandas as pd
import numpy as np
import matplotlib.pyplot as ptl
import seaborn as sns
from urllib.request import urlopen
from bs4 import BeautifulSoup as soup
import requests
headers={"user-agent":"Mozilla/5.0 (Windows NT 10.0; WOW64) AppleWebKit/537.36 (KHTML, like Gecko) Chrome/94.0.4606.61 Safari/537.36"}
url="https://www.genecards.org/cgi-bin/carddisp.pl?gene=VGLL3"
response = requests.get(url,headers=headers)
soup=BeautifulSoup(response.content,"html.parser")
soup
